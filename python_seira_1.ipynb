{
  "nbformat": 4,
  "nbformat_minor": 0,
  "metadata": {
    "colab": {
      "provenance": []
    },
    "kernelspec": {
      "name": "python3",
      "display_name": "Python 3"
    },
    "language_info": {
      "name": "python"
    }
  },
  "cells": [
    {
      "cell_type": "markdown",
      "source": [
        "**1. Να γραφτεί πρόγραμμα που θα ζητά από το χρήστη δυο ακέραιους αριθμούς, και θα δίνει ως έξοδο το άθροισμα των δυο αριθμών.**\n",
        "\n"
      ],
      "metadata": {
        "id": "HWgaT2K4jyXW"
      }
    },
    {
      "cell_type": "code",
      "source": [
        "# Input the two numbers from the user\n",
        "num1 = int(input(\"Enter the first number: \"))\n",
        "num2 = int(input(\"Enter the second number: \"))\n",
        "\n",
        "# Add the numbers and store the result in a variable\n",
        "sum = num1 + num2\n",
        "\n",
        "# Print the sum\n",
        "print(\"The sum of\", num1, \"and\", num2, \"is:\", sum)\n"
      ],
      "metadata": {
        "id": "P4qDGaylgnw1"
      },
      "execution_count": null,
      "outputs": []
    },
    {
      "cell_type": "markdown",
      "source": [
        "*Σε αυτόν τον κώδικα, χρησιμοποιούμε τη συνάρτηση input() για να πάρουμε δύο τιμές από τον χρήστη και να τις αποθηκεύσουμε σε μεταβλητές που ονομάζονται num1 και num2. Στη συνέχεια προσθέτουμε τους αριθμούς και αποθηκεύουμε το αποτέλεσμα σε μια μεταβλητή που ονομάζεται sum. Τέλος, χρησιμοποιούμε τη συνάρτηση print() για να εξάγουμε το άθροισμα σε μια μορφοποιημένη συμβολοσειρά*.\n",
        "\n",
        "---\n",
        "\n"
      ],
      "metadata": {
        "id": "r3Q2zSibj3HQ"
      }
    },
    {
      "cell_type": "markdown",
      "source": [
        "**2. Να γραφτεί πρόγραμμα που θα ζητά από το χρήστη δυο πραγματικούς αριθμούς, και θα δίνει ως έξοδο το άθροισμα των δυο αριθμών.**\n"
      ],
      "metadata": {
        "id": "RJM1D8qbj_s8"
      }
    },
    {
      "cell_type": "code",
      "source": [
        "# Input the two numbers from the user\n",
        "num1 = float(input(\"Enter the first number: \"))\n",
        "num2 = float(input(\"Enter the second number: \"))\n",
        "\n",
        "# Add the numbers and store the result in a variable\n",
        "sum = num1 + num2\n",
        "\n",
        "# Print the sum\n",
        "print(\"The sum of\", num1, \"and\", num2, \"is:\", sum)\n"
      ],
      "metadata": {
        "id": "bnChBAHohkqH"
      },
      "execution_count": null,
      "outputs": []
    },
    {
      "cell_type": "markdown",
      "source": [
        "*Σε αυτόν τον κώδικα, χρησιμοποιούμε τη συνάρτηση input() για να πάρουμε δύο τιμές float από τον χρήστη και να τις αποθηκεύσουμε σε μεταβλητές που ονομάζονται num1 και num2. Στη συνέχεια προσθέτουμε τους αριθμούς και αποθηκεύουμε το αποτέλεσμα σε μια μεταβλητή που ονομάζεται sum. Τέλος, χρησιμοποιούμε τη συνάρτηση print() για να εξάγουμε το άθροισμα σε μια μορφοποιημένη συμβολοσειρά.*\n",
        "\n",
        "---\n",
        "\n"
      ],
      "metadata": {
        "id": "qbzLmTDwkLBQ"
      }
    },
    {
      "cell_type": "markdown",
      "source": [
        "3. Τo American College of Sports Medicine συνιστά την παρακολούθηση του καρδιακού ρυθμού εξάσκησης κατά την διάρκεια αεροβικών ασκήσεων. Ο καρδιακός ρυθμός εξάσκησης υπολογίζεται ως εξής:\n",
        "heart_beat = 0.7 *(220-age) + 0.3*rhb (beat/min)\n",
        "Όπου age η ηλικία (ακέραιος αριθμός) του αθλούμενου και rhb οι καρδιακοί\n",
        "παλμοί ηρεμίας.\n",
        "Γράψτε ένα πρόγραμμα που να ζητά από τον χρήστη την ηλικία και το καρδιακό παλμό ηρεμίας και θα εμφανίζει τον επιτρεπόμενο καρδιακό ρυθμό εξάσκησης."
      ],
      "metadata": {
        "id": "8DC9WdhyjiU0"
      }
    },
    {
      "cell_type": "code",
      "source": [
        "# Get age and resting heart rate from the user\n",
        "age = int(input(\"Enter your age: \"))\n",
        "rhb = int(input(\"Enter your resting heart rate: \"))\n",
        "\n",
        "# Calculate the exercise heart rate using the formula\n",
        "heart_beat = 0.7 * (220 - age) + 0.3 * rhb\n",
        "\n",
        "# Display the calculated heart rate\n",
        "print(\"Your allowable exercise heart rate is\", heart_beat, \"beats per minute\")\n"
      ],
      "metadata": {
        "id": "s8iw9NstjDYS"
      },
      "execution_count": null,
      "outputs": []
    },
    {
      "cell_type": "markdown",
      "source": [
        "*Σε αυτό το πρόγραμμα, χρησιμοποιούμε πρώτα τη συνάρτηση input() για να πάρουμε την ηλικία και τον καρδιακό ρυθμό ηρεμίας του αθλητή από τον χρήστη και να τα αποθηκεύσουμε στις μεταβλητές age και rhb, αντίστοιχα. Στη συνέχεια χρησιμοποιούμε τον τύπο που δίνεται για να υπολογίσουμε τον καρδιακό ρυθμό της άσκησης και να αποθηκεύσουμε το αποτέλεσμα στην μεταβλητή heart_beat. Τέλος, χρησιμοποιούμε τη συνάρτηση print() για να εμφανίσουμε τον υπολογισμένο καρδιακό ρυθμό σε μια μορφοποιημένη συμβολοσειρά.*\n",
        "\n",
        "---\n",
        "\n"
      ],
      "metadata": {
        "id": "DFcbcC2XjwgD"
      }
    },
    {
      "cell_type": "markdown",
      "source": [
        "4. Να γραφτεί ένα πρόγραμμα που θα ζητά από το χρήστη μια τιμή \n",
        "θερμοκρασίας σε βαθμούς Celsius και θα δίνει ως έξοδο την τιμή της \n",
        "θερμοκρασίας σε βαθμούς Fahrenheit. "
      ],
      "metadata": {
        "id": "uzQCJY9UlbRy"
      }
    },
    {
      "cell_type": "code",
      "source": [
        "# Ask the user for temperature in Celsius\n",
        "celsius = float(input(\"Enter temperature in Celsius: \"))\n",
        "\n",
        "# Convert Celsius to Fahrenheit\n",
        "fahrenheit = (celsius * 9/5) + 32\n",
        "\n",
        "# Print the result\n",
        "print(\"{:.2f} degrees Celsius is equal to {:.2f} degrees Fahrenheit\".format(celsius, fahrenheit))"
      ],
      "metadata": {
        "id": "H9CnpWlGlUYd"
      },
      "execution_count": null,
      "outputs": []
    },
    {
      "cell_type": "markdown",
      "source": [
        "*Σε αυτόν τον κώδικα, ζητάμε πρώτα από το χρήστη να εισαγάγει τη θερμοκρασία σε βαθμούς Κελσίου χρησιμοποιώντας τη συνάρτηση input() και να αποθηκεύσει την τιμή σε μια μεταβλητή που ονομάζεται celsius. Στη συνέχεια, μετατρέπουμε τη θερμοκρασία από Κελσίου σε fahrenheit χρησιμοποιώντας τον τύπο μετατροπής (Κελσίου * 9/5) + 32 *και αποθηκεύουμε το αποτέλεσμα σε μια μεταβλητή που \n",
        "ονομάζεται fahrenheit. Τέλος, χρησιμοποιούμε τη συνάρτηση print() για να εξάγουμε το αποτέλεσμα, μορφοποιημένο σε δύο δεκαδικά ψηφία χρησιμοποιώντας τη μέθοδο format().* \n",
        "\n",
        "---\n",
        "\n"
      ],
      "metadata": {
        "id": "_Tg2aGfzlwxw"
      }
    },
    {
      "cell_type": "markdown",
      "source": [
        "5. Να γραφτεί ένα πρόγραμμα που θα ζητά από το χρήστη μια τιμή\n",
        "θερμοκρασίας σε βαθμούς Fahrenheit και θα δίνει ως έξοδο την τιμή της \n",
        "θερμοκρασίας σε βαθμούς Celsius. \n"
      ],
      "metadata": {
        "id": "3oyPApcWmmXV"
      }
    },
    {
      "cell_type": "code",
      "source": [
        "# Get temperature in Fahrenheit from the user\n",
        "fahrenheit = float(input(\"Enter temperature in Fahrenheit: \"))\n",
        "\n",
        "# Calculate temperature in Celsius using the formula\n",
        "celsius = (fahrenheit - 32) * 5/9\n",
        "\n",
        "# Display the temperature in Celsius\n",
        "print(\"Temperature in Celsius is:\", celsius, \"degrees\")\n"
      ],
      "metadata": {
        "id": "U8yiMajZm29D"
      },
      "execution_count": null,
      "outputs": []
    },
    {
      "cell_type": "markdown",
      "source": [
        "*Σε αυτό το πρόγραμμα, χρησιμοποιούμε πρώτα τη συνάρτηση input() για να πάρουμε την τιμή θερμοκρασίας σε Fahrenheit από τον χρήστη και να την αποθηκεύσουμε σε μια μεταβλητή Fahrenheit. Στη συνέχεια χρησιμοποιούμε τον τύπο που δίνεται για να υπολογίσουμε την τιμή της θερμοκρασίας σε Κελσίου και να αποθηκεύσουμε το αποτέλεσμα στην μεταβλητή celsius. Τέλος, χρησιμοποιούμε τη συνάρτηση print() για να εμφανίσουμε την τιμή θερμοκρασίας σε Κελσίου σε μια μορφοποιημένη συμβολοσειρά.*\n",
        "\n",
        "---\n",
        "\n"
      ],
      "metadata": {
        "id": "LHt6aVYJm4Wa"
      }
    },
    {
      "cell_type": "markdown",
      "source": [
        "6. Να γραφτεί ένα πρόγραμμα που θα ζητά από το χρήστη μια την τελική τιμή ενός προϊόντος και θα δίνει ως έξοδο την τιμή του προϊόντος χωρίς ΦΠΑ (υποθέστε ότι ο ΦΠΑ είναι 24%).\n"
      ],
      "metadata": {
        "id": "glfhL0aNmJVu"
      }
    },
    {
      "cell_type": "code",
      "source": [
        "# Ask the user for the final price of the product\n",
        "price_with_vat = float(input(\"Enter the final price of the product: \"))\n",
        "\n",
        "# Calculate the price without VAT\n",
        "price_without_vat = price_with_vat / 1.24\n",
        "\n",
        "# Print the result\n",
        "print(\"The price of the product without VAT is: {:.2f}\".format(price_without_vat))"
      ],
      "metadata": {
        "id": "qfEe_ugfmP3l"
      },
      "execution_count": null,
      "outputs": []
    },
    {
      "cell_type": "markdown",
      "source": [
        "*Σε αυτόν τον κώδικα, ζητάμε πρώτα από τον χρήστη να εισαγάγει την τελική τιμή του προϊόντος χρησιμοποιώντας τη συνάρτηση input() και να αποθηκεύσει την τιμή σε μια μεταβλητή που ονομάζεται price_with_vat. Στη συνέχεια διαιρούμε την τελική τιμή με το 1,24 (1 + 0,24) για να πάρουμε την τιμή χωρίς ΦΠΑ και αποθηκεύουμε το αποτέλεσμα σε μια μεταβλητή που ονομάζεται price_without_vat. Τέλος, χρησιμοποιούμε τη συνάρτηση print() για να εξάγουμε το αποτέλεσμα, μορφοποιημένο σε δύο δεκαδικά ψηφία χρησιμοποιώντας τη μέθοδο format().*\n",
        "\n",
        "---\n",
        "\n"
      ],
      "metadata": {
        "id": "4FzRg7hNmUtv"
      }
    },
    {
      "cell_type": "markdown",
      "source": [
        "7. Να γραφτεί πρόγραμμα που θα ζητά από το χρήστη δυο αριθμούς, που αντιστοιχούν στον τρέχοντα μήνα και την τρέχουσα ημέρα του μήνα και θα δίνει ως έξοδο τις ημέρες που υπολείπονται μέχρι το τέλος του έτους (θεωρήστε ότι ο μήνας έχει 30 ημέρες)."
      ],
      "metadata": {
        "id": "K9jQpe7plAKT"
      }
    },
    {
      "cell_type": "code",
      "source": [
        "# Ask the user for the current month and day\n",
        "current_month = int(input(\"Enter the current month (1-12): \"))\n",
        "current_day = int(input(\"Enter the current day of the month (1-30): \"))\n",
        "\n",
        "# Calculate the days remaining until the end of the year\n",
        "days_remaining = (12 - current_month) * 30 + (30 - current_day)\n",
        "\n",
        "# Print the result\n",
        "print(\"There are\", days_remaining, \"days remaining until the end of the year.\")"
      ],
      "metadata": {
        "id": "KsPZ5oV7_URP"
      },
      "execution_count": null,
      "outputs": []
    },
    {
      "cell_type": "markdown",
      "source": [
        "*Σε αυτόν τον κώδικα, ζητάμε πρώτα από τον χρήστη να εισαγάγει τον τρέχοντα μήνα και την ημέρα του μήνα χρησιμοποιώντας τη συνάρτηση input() και να αποθηκεύσει τις τιμές σε μεταβλητές που ονομάζονται current_month και current_day. Στη συνέχεια υπολογίζουμε τον αριθμό των ημερών που απομένουν μέχρι το τέλος του έτους αφαιρώντας τον τρέχοντα μήνα και την ημέρα από 12 μήνες και 30 ημέρες αντίστοιχα, υποθέτοντας ότι κάθε μήνας έχει 30 ημέρες. Αποθηκεύουμε το αποτέλεσμα σε μια μεταβλητή που ονομάζεται days_remaining. Τέλος, χρησιμοποιούμε τη συνάρτηση print() για να εξάγουμε το αποτέλεσμα.*\n",
        "\n",
        "---\n",
        "\n"
      ],
      "metadata": {
        "id": "JOwTyqmmk61T"
      }
    }
  ]
}